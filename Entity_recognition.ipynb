{
 "cells": [
  {
   "cell_type": "code",
   "execution_count": 1,
   "id": "be4d9332-3bb3-40bb-8bc0-c4cb2b6751e4",
   "metadata": {},
   "outputs": [],
   "source": [
    "import tensorflow as tf\n",
    "from tensorflow.keras.preprocessing.text import Tokenizer\n",
    "from py2neo import Graph, Node, Relationship"
   ]
  },
  {
   "cell_type": "code",
   "execution_count": 1,
   "id": "ba6c7291-ccd5-4531-a4b6-9f70a8329609",
   "metadata": {},
   "outputs": [],
   "source": [
    "neo4j_uri = \"bolt://localhost:7687\"\n",
    "neo4j_user = \"neo4j\"\n",
    "neo4j_password = \"password\"\n",
    "graph = Graph(neo4j_uri, auth=(neo4j_user, neo4j_password))"
   ]
  },
  {
   "cell_type": "code",
   "execution_count": 3,
   "id": "962d1c83-8ad9-4a47-81ff-c21a5f0b287d",
   "metadata": {},
   "outputs": [],
   "source": [
    "text_data = [\n",
    "    \"Apple is a technology company founded by Steve Jobs.\",\n",
    "    \"Amazon is an e-commerce platform founded by Jeff Bezos.\",\n",
    "    \"Google is a search engine company founded by Larry Page and Sergey Brin.\"\n",
    "]"
   ]
  },
  {
   "cell_type": "code",
   "execution_count": 4,
   "id": "57c52bb2-758c-4156-ad8d-76a20c9b9541",
   "metadata": {},
   "outputs": [],
   "source": [
    "tokenizer = Tokenizer()\n",
    "tokenizer.fit_on_texts(text_data)\n",
    "tokens = tokenizer.texts_to_sequences(text_data)"
   ]
  },
  {
   "cell_type": "code",
   "execution_count": 5,
   "id": "4acdde92-362c-499d-ade9-12b0cd2fbdb8",
   "metadata": {},
   "outputs": [],
   "source": [
    "entities = []\n",
    "for token in tokens:\n",
    "    for word in token:\n",
    "        if word % 2 == 0:  # Simple noun detection (every other word)\n",
    "            entities.append(word)"
   ]
  },
  {
   "cell_type": "code",
   "execution_count": 2,
   "id": "874a76fe-1a77-4220-aee0-6aaa786ae2ce",
   "metadata": {},
   "outputs": [],
   "source": [
    "for entity in entities:\n",
    "    node = Node(\"Entity\", name=entity)\n",
    "    graph.create(node)"
   ]
  },
  {
   "cell_type": "code",
   "execution_count": 3,
   "id": "e64950c9-ae64-4952-bded-c190aba101a2",
   "metadata": {},
   "outputs": [],
   "source": [
    "for i, entity1 in enumerate(entities):\n",
    "    for j, entity2 in enumerate(entities):\n",
    "        if i != j:\n",
    "            relationship = Relationship(node1, \"RELATED_TO\", node2)\n",
    "            graph.create(relationship)"
   ]
  },
  {
   "cell_type": "code",
   "execution_count": 4,
   "id": "a014bae1-8d2a-4eab-932a-740afe1bce6b",
   "metadata": {},
   "outputs": [],
   "source": [
    "query = \"MATCH (e1:Entity)-[:RELATED_TO]-(e2:Entity) RETURN e1, e2\"\n",
    "results = graph.run(query).data()\n",
    "\n",
    "for result in results:\n",
    "    print(f\"{result['e1']['name']} is related to {result['e2']['name']}\")"
   ]
  },
  {
   "cell_type": "code",
   "execution_count": null,
   "id": "85adff12-aabb-4fd0-b9c4-c1e0162daa9d",
   "metadata": {},
   "outputs": [],
   "source": []
  }
 ],
 "metadata": {
  "kernelspec": {
   "display_name": "Python 3 (ipykernel)",
   "language": "python",
   "name": "python3"
  },
  "language_info": {
   "codemirror_mode": {
    "name": "ipython",
    "version": 3
   },
   "file_extension": ".py",
   "mimetype": "text/x-python",
   "name": "python",
   "nbconvert_exporter": "python",
   "pygments_lexer": "ipython3",
   "version": "3.11.7"
  }
 },
 "nbformat": 4,
 "nbformat_minor": 5
}
